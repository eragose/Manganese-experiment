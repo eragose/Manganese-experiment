{
 "cells": [
  {
   "cell_type": "code",
   "execution_count": null,
   "outputs": [],
   "source": [
    "import numpy as np\n",
    "import pandas as pd\n",
    "import glob\n",
    "import os\n",
    "import scipy.stats as ss\n",
    "import matplotlib.pyplot as plt\n",
    "from scipy.optimize import curve_fit\n",
    "from zipfile import ZipFile\n",
    "\n",
    "\n",
    "  \n",
    "# #specifying the zip file name\n",
    "# for i in range(5):\n",
    "#     file_name = f'Dag 2/Mg_data/Mg_1_maalning_dag2_ch000{i}.zip'\n",
    "    \n",
    "#     # opening the zip file in READ mode\n",
    "#     with ZipFile(file_name, 'r') as ti:\n",
    "#         # printing all the contents of the zip file\n",
    "#         ti.printdir()\n",
    "    \n",
    "#         # extracting all the files\n",
    "#         ti.extractall()\n",
    "\n",
    "# a = 0.73971712\n",
    "# ae = 9.9e-7\n",
    "# b = 0.3785\n",
    "# be = 1.4e-3\n",
    "\n",
    "# data = []\n",
    "# \n",
    "#     data.append(np.loadtxt(f'Mg_1_maalning_dag2_ch000{i}.txt')[1])\n",
    "\n",
    "def getCounts(j, lc: int = 20, hc: int = 6000):\n",
    "    \n",
    "    counts = []\n",
    "    for i in range(j):\n",
    "        print('File:', str(i))\n",
    "        data = np.loadtxt(f\"Mg_1_maalning_dag2_ch000{i}.txt\")\n",
    "        counts.append(data[:, 1])\n",
    "    \n",
    "    (x, y) = np.unique(np.concatenate(counts), return_counts=True)\n",
    "    lI = np.where(x >= lc)[0][0]\n",
    "    hI = np.where(x >= hc)[0][0]\n",
    "    x = x[lI:hI]\n",
    "    y = y[lI:hI]\n",
    "    \n",
    "    a = 0.73971712\n",
    "    ae = 9.9e-7\n",
    "    b = 0.3785\n",
    "    be = 1.4e-3\n",
    "    x  = x * a + b\n",
    "    \n",
    "    a = 180.66341379895778\n",
    "    b = 0.034598909761420625\n",
    "    usikkerheder: [6.52763544e+00, 5.95806196e-03]    \n",
    "    eff = a *1 / x + b\n",
    "    y = y / eff\n",
    "\n",
    "\n",
    "    return (x, y)\n",
    "\n",
    "Line = [3445.279,3369.91,3122.908,2959.935,2657.547,2085.064,846.77]\n",
    "line = [2598.438, 3369.81,2523.06,1037.833,2113.092,1810.726, 1238.27]\n",
    "\n",
    "\n",
    "plt.vlines(Line, 0, 10000, colors='r', linestyles='dashed')\n",
    "plt.vlines(line, 0, 10000, colors='b', linestyles='dashed')\n",
    "\n",
    "\n",
    "\n",
    "Mg1 = getCounts(5)\n",
    "# Mg2 = getCounts(1)\n",
    "# Mg3 = getCounts(2)\n",
    "# Mg4 = getCounts(3)\n",
    "# Mg5 = getCounts(4)\n",
    "\n",
    "\n",
    "# ener = np.concatenate([Mg1[0], Mg2[0] , Mg3[0] , Mg4[0] , Mg5[0]])\n",
    "# Coun = np.concatenate([Mg1[1], Mg2[1] , Mg3[1] , Mg4[1] , Mg5[1]])\n",
    "\n",
    "plt.plot(Mg1[0], Mg1[1], color=\"r\", label=\"data\")\n",
    "plt.show()\n",
    "\n",
    "# plt.vlines(Line, 0, 10000, colors='r', linestyles='dashed')\n",
    "# plt.vlines(line, 0, 10000, colors='b', linestyles='dashed')\n",
    "\n",
    "plt.plot(Mg1[0], Mg1[1])\n",
    "plt.title('Mg')\n",
    "\n",
    "plt.show()\n",
    "\n",
    "\n",
    "\n",
    "\n",
    "def gaussFit(x, mu, sig, a, b, c):\n",
    "    lny = np.log(a) - ((x-mu)**2)/(2*sig**2)\n",
    "    return np.exp(lny) - (b*x+c)\n",
    "\n"
   ],
   "metadata": {
    "collapsed": false,
    "pycharm": {
     "name": "#%%\n"
    }
   }
  },
  {
   "cell_type": "code",
   "execution_count": null,
   "outputs": [],
   "source": [],
   "metadata": {
    "collapsed": false,
    "pycharm": {
     "name": "#%%\n"
    }
   }
  },
  {
   "cell_type": "code",
   "execution_count": null,
   "outputs": [],
   "source": [
    "\n",
    "def getChannel(name: str, data:tuple , lower_limit: int, upper_limit: int, x_1:int, x_2:int, guess: [int, int, int], guess2 = [0,0]):\n",
    "    x = data[0][lower_limit:upper_limit]\n",
    "    y = data[1][lower_limit:upper_limit]\n",
    "\n",
    "\n",
    "    print('x_min',x[0],'x_max',x[-1], 'y_min',y[0],'y_max', y[-1])\n",
    "    plt.plot(x, y, color=\"r\", label=\"data\")\n",
    "    yler = np.sqrt(y)\n",
    "    pinit = guess + guess2\n",
    "    xhelp = np.linspace(x_1, x_2, 500)\n",
    "    print('heplmin',xhelp[0],'helpmax',xhelp[-1])\n",
    "    popt, pcov = curve_fit(gaussFit, x, y, p0=pinit, sigma=yler, absolute_sigma=True)\n",
    "    print(name)\n",
    "    print('mu :', popt[0])\n",
    "    print('sigma :', popt[1])\n",
    "    print('scaling', popt[2])\n",
    "    print('background', popt[3], popt[4])\n",
    "    perr = np.sqrt(np.diag(pcov))\n",
    "    print('usikkerheder:', perr)\n",
    "    chmin = np.sum(((y - gaussFit(x, *popt)) / yler) ** 2)\n",
    "    print('chi2:', chmin, ' ---> p:', ss.chi2.cdf(chmin, 4))\n",
    "\n",
    "    \n",
    "    plt.plot(xhelp, gaussFit(xhelp, *popt), 'k-.', label=\"gaussfit\")\n",
    "    plt.legend()\n",
    "\n",
    "    plt.title(name)\n",
    "    plt.grid()\n",
    "    plt.show()\n",
    "\n",
    "\n",
    "    return [popt, perr, name]\n"
   ],
   "metadata": {
    "collapsed": false,
    "pycharm": {
     "name": "#%%\n"
    }
   }
  },
  {
   "cell_type": "code",
   "execution_count": null,
   "outputs": [],
   "source": [
    "def t(x):\n",
    "    return int(x/ a - b)\n",
    "\n",
    "def effect(x):\n",
    "    a = 180.66341379895778\n",
    "    b = 0.034598909761420625\n",
    "    usikkerheder: [6.52763544e+00, 5.95806196e-03]    \n",
    "    return a *1 / x +b\n"
   ],
   "metadata": {
    "collapsed": false,
    "pycharm": {
     "name": "#%%\n"
    }
   }
  },
  {
   "cell_type": "code",
   "execution_count": null,
   "outputs": [],
   "source": [
    "chs = []\n",
    "\n",
    "chs += [getChannel(\"Mg E=846.77\", Mg1,  1000, 1500, 750, 1000, [850, 10, 200])]\n",
    "chs += [getChannel(\"Mg E=2085.0\", Mg1, 2780, 2802, 2075,2088, [2085, 10, 100])]    \n",
    "chs += [ getChannel(\"Mg E=1238.27\", Mg1, 1500, 1800,1100,1300, [1230, 10, 200])]\n",
    "chs += [ getChannel(\"Mg E=2657.54\", Mg1, 3000, 4000, 2500,2800, [2650, 5, 200])]\n",
    "chs += [ getChannel(\"Mg E=1810.72\", Mg1, 2300, 2600, 1750,1900,[1810, 25, 200])]\n",
    "chs += [ getChannel(\"Mg E=2959.03\", Mg1, 3800, 4100, 2900,3000, [2950, 10, 200])] \n",
    "chs += [getChannel(\"Mg E=3122.908\", Mg1, 4100, 4270, 3000, 3200, [3122, 0, 200])]\n",
    "chs += [ getChannel(\"Mg E=2113.09\", Mg1, 2720, 3020, 2000,2200, [2120, 10, 200])]\n",
    "chs += [ getChannel(\"Mg E=1037.833\", Mg1, 1340, 1440,1020,1050, [1037, 0.5, 5000])]\n",
    "chs += [ getChannel(\"Mg E=3369.9\", Mg1, 4100, 5400,3200, 3500, [3360, 10, 200])]\n",
    "chs += [ getChannel(\"Mg E=2523.06\", Mg1, 3200, 3600,2400,2600, [2520, 20, 500])]\n",
    "chs += [ getChannel(\"Mg E=2598.43\", Mg1, 3450, 3498,2580,2600, [2598, 10, 20])]"
   ],
   "metadata": {
    "collapsed": false,
    "pycharm": {
     "name": "#%%\n"
    }
   }
  },
  {
   "cell_type": "code",
   "execution_count": null,
   "outputs": [],
   "source": [
    "ch= np.array(chs)\n",
    "ch"
   ],
   "metadata": {
    "collapsed": false,
    "pycharm": {
     "name": "#%%\n"
    }
   }
  },
  {
   "cell_type": "code",
   "execution_count": null,
   "outputs": [],
   "source": [
    "#A = H * Sigma \\sqrt(2pi)\n",
    "\n",
    "def Areal(t):\n",
    "    H = t[2]\n",
    "    Sigma = t[1]\n",
    "    A = H * Sigma * (2*np.pi)**0.5\n",
    "    return A\n",
    "\n",
    "Areals = [Areal(i) for i in ch[:,0]]\n",
    "Areals"
   ],
   "metadata": {
    "collapsed": false,
    "pycharm": {
     "name": "#%%\n"
    }
   }
  },
  {
   "cell_type": "code",
   "execution_count": null,
   "outputs": [],
   "source": [
    "\n",
    "na = {}\n",
    "for i in range(len(Areals)):\n",
    "    na.update({chs[i][2][5:]: Areals[i]})\n",
    "\n",
    "print(na)\n",
    "E7 = na['2598.43']\n",
    "E6 = na['3369.9'] + na['2523.06']\n",
    "E5 = na['1037.833']\n",
    "E4 = na['2959.03'] + na['2113.09']\n",
    "E3 = na['2657.54'] + na['1810.72']\n",
    "E2 = na['1238.27'] - na['1037.833']\n",
    "E1 = na['846.77'] - na['1238.27'] - na['1810.72'] - na['2113.09'] - na['2523.06'] - na['2598.43']\n",
    "\n",
    "E = E7, E6, E5, E4, E3, E2, E1\n",
    "\n",
    "print(E)"
   ],
   "metadata": {
    "collapsed": false,
    "pycharm": {
     "name": "#%%\n"
    }
   }
  },
  {
   "cell_type": "code",
   "execution_count": null,
   "outputs": [],
   "source": [
    "print(E7/sum(E), E6/sum(E), E5/sum(E), E4/sum(E), E3/sum(E), E2/sum(E), E1/sum(E))"
   ],
   "metadata": {
    "collapsed": false,
    "pycharm": {
     "name": "#%%\n"
    }
   }
  },
  {
   "cell_type": "code",
   "execution_count": null,
   "outputs": [],
   "source": [],
   "metadata": {
    "collapsed": false,
    "pycharm": {
     "name": "#%%\n"
    }
   }
  },
  {
   "cell_type": "code",
   "execution_count": null,
   "outputs": [],
   "source": [],
   "metadata": {
    "collapsed": false,
    "pycharm": {
     "name": "#%%\n"
    }
   }
  },
  {
   "cell_type": "code",
   "execution_count": null,
   "metadata": {},
   "outputs": [],
   "source": []
  }
 ],
 "metadata": {
  "kernelspec": {
   "display_name": "Python 3.10.4 ('Python310')",
   "language": "python",
   "name": "python3"
  },
  "language_info": {
   "codemirror_mode": {
    "name": "ipython",
    "version": 3
   },
   "file_extension": ".py",
   "mimetype": "text/x-python",
   "name": "python",
   "nbconvert_exporter": "python",
   "pygments_lexer": "ipython3",
   "version": "3.10.4"
  },
  "orig_nbformat": 4,
  "vscode": {
   "interpreter": {
    "hash": "901b79e026e03396fd1ffa7133844e9ea80e258ce34c66e1aabb5896bcb18463"
   }
  }
 },
 "nbformat": 4,
 "nbformat_minor": 2
}